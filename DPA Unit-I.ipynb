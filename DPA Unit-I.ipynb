{
 "cells": [
  {
   "cell_type": "markdown",
   "id": "f1b78720",
   "metadata": {},
   "source": [
    "# The following code performs parsing of csv, json, and xml file into a same format."
   ]
  },
  {
   "cell_type": "code",
   "execution_count": 1,
   "id": "7552b352",
   "metadata": {},
   "outputs": [
    {
     "name": "stdout",
     "output_type": "stream",
     "text": [
      "CSV Data: [{'name': 'Alice', 'age': '30', 'city': 'New York'}, {'name': 'Bob', 'age': '25', 'city': 'Los Angeles'}]\n",
      "JSON Data: [{'name': 'Charlie', 'age': 35, 'city': 'Chicago'}, {'name': 'David', 'age': 40, 'city': 'Houston'}]\n",
      "XML Data: [{'name': 'Emma', 'age': '28', 'city': 'Miami'}, {'name': 'Frank', 'age': '33', 'city': 'Seattle'}]\n"
     ]
    }
   ],
   "source": [
    "import csv\n",
    "import json\n",
    "import xml.etree.ElementTree as ET\n",
    "\n",
    "def parse_csv(file_path):\n",
    "    with open(\"DPA/data1.csv\", mode='r', encoding='utf-8') as file:\n",
    "        reader = csv.DictReader(file)\n",
    "        data = [row for row in reader]\n",
    "    return data\n",
    "\n",
    "def parse_json(file_path):\n",
    "    with open(\"DPA/data.json\", mode='r', encoding='utf-8') as file:\n",
    "        data = json.load(file)\n",
    "    return data\n",
    "\n",
    "def parse_xml(file_path):\n",
    "    tree = ET.parse(\"DPA/data.xml\")\n",
    "    root = tree.getroot()\n",
    "    data = [] #empty list\n",
    "    for child in root:\n",
    "        data.append({elem.tag: elem.text for elem in child})\n",
    "    return data\n",
    "\n",
    "if __name__ == \"__main__\":\n",
    "    csv_data = parse_csv(\"data1.csv\")\n",
    "    print(\"CSV Data:\", csv_data)\n",
    "    \n",
    "    json_data = parse_json(\"data.json\")\n",
    "    print(\"JSON Data:\", json_data)\n",
    "    \n",
    "    xml_data = parse_xml(\"data.xml\")\n",
    "    print(\"XML Data:\", xml_data)\n"
   ]
  },
  {
   "cell_type": "markdown",
   "id": "14173cb3",
   "metadata": {},
   "source": [
    "# The following code reads an xlsx file. (Specify extension while giving filename)"
   ]
  },
  {
   "cell_type": "code",
   "execution_count": 4,
   "id": "c2777235",
   "metadata": {},
   "outputs": [
    {
     "name": "stdout",
     "output_type": "stream",
     "text": [
      "Enter Excel file path: DPA/facultydetails.xlsx\n",
      "Enter sheet name (leave blank for first sheet): \n",
      "Extracted Data:\n",
      "                 Name of Department Name of the Faculty Gender (Male/Female)  \\\n",
      "0                               NaN                 NaN                  NaN   \n",
      "1  Computer Science and Engineering    Dr. Dinesh Gupta                 Male   \n",
      "2  Computer Science and Engineering     Dr. Raman Kumar                 Male   \n",
      "3  Computer Science and Engineering    Dr. Anshu Bhasin               Female   \n",
      "4  Computer Science and Engineering           Dr. Pooja               Female   \n",
      "\n",
      "  Academic Designation (Professor/Associate Professor/Assistant Professor/Vice Chancellor/Dean/Director/ Principal/Other/Associate Dean/Reader/lecturer  \\\n",
      "0                                                NaN                                                                                                      \n",
      "1                                Assistant Professor                                                                                                      \n",
      "2                               Assistant Professor                                                                                                       \n",
      "3                               Assistant Professor                                                                                                       \n",
      "4                                Assistant Professor                                                                                                      \n",
      "\n",
      "  Date of Birth       (dd-mm-yyyy)     Age as on 31st July 2024  \\\n",
      "0                              NaN                          NaN   \n",
      "1              1982-07-12 00:00:00   42 years, 7 months, 1 days   \n",
      "2              1984-02-07 00:00:00   41 years, 0 months, 6 days   \n",
      "3                       21/11/1975  48 years, 0 months, 21 days   \n",
      "4              1985-03-10 00:00:00      39 years 3 months 1 day   \n",
      "\n",
      "  Highest University Degree (Ph.D./M.Tech./Master's Degree)  \\\n",
      "0                                                NaN          \n",
      "1                                               Ph.D          \n",
      "2                                               Ph.D          \n",
      "3                                               Ph.D          \n",
      "4                                                PhD          \n",
      "\n",
      "  Exempted PAN Card as per GOI rules  PAN Number  \\\n",
      "0                                NaN         NaN   \n",
      "1                                 No  AGSPG6730F   \n",
      "2                                 No  BKVPK8841B   \n",
      "3                                 No  AMVPB7142B   \n",
      "4                                 No  CHXPS4691H   \n",
      "\n",
      "  Experience Details - Faculty Experience in relevant Subject   \\\n",
      "0  Total Teaching Experience (In months) as on 31...             \n",
      "1                                                192             \n",
      "2                                                198             \n",
      "3                                                252             \n",
      "4                                                192             \n",
      "\n",
      "                                         Unnamed: 10  \\\n",
      "0  Total Industry Experience (In months) as on 31...   \n",
      "1                                                  0   \n",
      "2                                                  0   \n",
      "3                                                  0   \n",
      "4                                                  0   \n",
      "\n",
      "  Currently Working with Institution (Yes/No)  \\\n",
      "0                                         NaN   \n",
      "1                                         yes   \n",
      "2                                         yes   \n",
      "3                                         yes   \n",
      "4                                         Yes   \n",
      "\n",
      "  Association Type Regular/Adhoc/Contactual/ Visiting/Other  \\\n",
      "0                                                NaN          \n",
      "1                                            Regular          \n",
      "2                                            Regular          \n",
      "3                                            Regular          \n",
      "4                                            Regular          \n",
      "\n",
      "  Date of joining the institute (Latest Joining)   (dd-mm-yyyy)  \\\n",
      "0                                                NaN              \n",
      "1                                2014-12-01 00:00:00              \n",
      "2                                          24/7/2016              \n",
      "3                                          23/8/2016              \n",
      "4                                2017-01-06 00:00:00              \n",
      "\n",
      "  If Currently not Working with Institution, then Date of Leaving the Institution   (dd-mm-yyyy)  \n",
      "0                                                NaN                                              \n",
      "1                                               ....                                              \n",
      "2                                               ....                                              \n",
      "3                                               ....                                              \n",
      "4                                               ....                                              \n"
     ]
    }
   ],
   "source": [
    "import pandas as pd\n",
    "\n",
    "def extract_excel_data(file_path, sheet_name=0):\n",
    "    try:\n",
    "        df = pd.read_excel(file_path, sheet_name=sheet_name)\n",
    "        return df\n",
    "    except Exception as e:\n",
    "        return f\"Error: {str(e)}\"\n",
    "\n",
    "if __name__ == \"__main__\":\n",
    "    file_path = input(\"Enter Excel file path: \")\n",
    "    sheet_name = input(\"Enter sheet name (leave blank for first sheet): \") or 0\n",
    "    data = extract_excel_data(file_path, sheet_name)\n",
    "    print(\"Extracted Data:\")\n",
    "    print(data)\n"
   ]
  },
  {
   "cell_type": "markdown",
   "id": "e92261ca",
   "metadata": {},
   "source": [
    "# The following code normalizes the data using MinMaxScaler"
   ]
  },
  {
   "cell_type": "code",
   "execution_count": 5,
   "id": "9c3ae2eb",
   "metadata": {},
   "outputs": [
    {
     "name": "stdout",
     "output_type": "stream",
     "text": [
      "Enter CSV file path: DPA/salary.csv\n",
      "Normalized Data:\n",
      "      Name       Age    Salary     Score\n",
      "0    Alice  0.000000  0.000000  0.500000\n",
      "1      Bob  0.333333  0.333333  0.000000\n",
      "2  Charlie  0.666667  0.666667  1.000000\n",
      "3    David  1.000000  1.000000  0.714286\n",
      "4      Eve  0.200000  0.166667  0.214286\n"
     ]
    }
   ],
   "source": [
    "import pandas as pd\n",
    "from sklearn.preprocessing import MinMaxScaler\n",
    "\n",
    "def normalize_data(file_path):\n",
    "    try:\n",
    "        # Load data\n",
    "        df = pd.read_csv(file_path)\n",
    "        \n",
    "        # Initialize scaler\n",
    "        scaler = MinMaxScaler()\n",
    "        \n",
    "        # Normalize numeric columns only\n",
    "        numeric_cols = df.select_dtypes(include=['float64', 'int64']).columns\n",
    "        df[numeric_cols] = scaler.fit_transform(df[numeric_cols])\n",
    "\n",
    "        return df\n",
    "    except Exception as e:\n",
    "        return f\"Error: {str(e)}\"\n",
    "\n",
    "if __name__ == \"__main__\":\n",
    "    file_path = input(\"Enter CSV file path: \")\n",
    "    normalized_df = normalize_data(file_path)\n",
    "    print(\"Normalized Data:\")\n",
    "    print(normalized_df)"
   ]
  },
  {
   "cell_type": "markdown",
   "id": "a225c081",
   "metadata": {},
   "source": [
    "# The following code aggregates the data "
   ]
  },
  {
   "cell_type": "code",
   "execution_count": 6,
   "id": "b71d78d4",
   "metadata": {},
   "outputs": [
    {
     "name": "stdout",
     "output_type": "stream",
     "text": [
      "Enter CSV file path: DPA/salary.csv\n",
      "Aggregated Data:\n",
      "Age          31.6\n",
      "Salary    63000.0\n",
      "Score        84.8\n",
      "dtype: float64\n"
     ]
    }
   ],
   "source": [
    "import pandas as pd\n",
    "\n",
    "def aggregate_data(file_path):\n",
    "    try:\n",
    "        # Load data\n",
    "        df = pd.read_csv(file_path)\n",
    "        \n",
    "        # Perform aggregation: calculate the mean of Age, Salary, and Score\n",
    "        aggregated_df = df.agg({'Age': 'mean', 'Salary': 'mean', 'Score': 'mean'})\n",
    "\n",
    "        return aggregated_df\n",
    "    except Exception as e:\n",
    "        return f\"Error: {str(e)}\"\n",
    "\n",
    "if __name__ == \"__main__\":\n",
    "    file_path = input(\"Enter CSV file path: \")\n",
    "    aggregated_df = aggregate_data(file_path)\n",
    "    print(\"Aggregated Data:\")\n",
    "    print(aggregated_df)\n"
   ]
  },
  {
   "cell_type": "markdown",
   "id": "5d0fdb1f",
   "metadata": {},
   "source": [
    "# The following code converts data.json file into data2.csv"
   ]
  },
  {
   "cell_type": "code",
   "execution_count": 7,
   "id": "2dbe514f",
   "metadata": {},
   "outputs": [
    {
     "name": "stdout",
     "output_type": "stream",
     "text": [
      "Enter JSON file path: DPA/data.json\n",
      "Enter CSV file path: DPA/data3.csv\n",
      "JSON data successfully converted to CSV and saved at DPA/data3.csv\n"
     ]
    }
   ],
   "source": [
    "import pandas as pd\n",
    "\n",
    "def json_to_csv(json_file_path, csv_file_path):\n",
    "    try:\n",
    "        # Load JSON data\n",
    "        df = pd.read_json(json_file_path)\n",
    "        \n",
    "        # Convert to CSV\n",
    "        df.to_csv(csv_file_path, index=False)\n",
    "        print(f\"JSON data successfully converted to CSV and saved at {csv_file_path}\")\n",
    "    except Exception as e:\n",
    "        print(f\"Error: {str(e)}\")\n",
    "\n",
    "if __name__ == \"__main__\":\n",
    "    json_file = input(\"Enter JSON file path: \")\n",
    "    csv_file = input(\"Enter CSV file path: \")\n",
    "    json_to_csv(json_file, csv_file)"
   ]
  },
  {
   "cell_type": "code",
   "execution_count": 8,
   "id": "0f38ed17",
   "metadata": {},
   "outputs": [
    {
     "name": "stdout",
     "output_type": "stream",
     "text": [
      "Enter JSON file path: DPA/data.json\n",
      "Enter CSV file path: DPA/nd.csv\n",
      "JSON data with encoded categorical variables successfully converted to CSV and saved at DPA/nd.csv\n"
     ]
    }
   ],
   "source": [
    "import pandas as pd\n",
    "\n",
    "def json_to_csv_with_encoding(json_file_path, csv_file_path):\n",
    "    try:\n",
    "        # Load JSON data\n",
    "        df = pd.read_json(json_file_path)\n",
    "\n",
    "        # Convert categorical data to numerical using one-hot encoding\n",
    "        df = pd.get_dummies(df, columns=['city'])\n",
    "\n",
    "        # Convert to CSV\n",
    "        df.to_csv(csv_file_path, index=False)\n",
    "        print(f\"JSON data with encoded categorical variables successfully converted to CSV and saved at {csv_file_path}\")\n",
    "    except Exception as e:\n",
    "        print(f\"Error: {str(e)}\")\n",
    "\n",
    "if __name__ == \"__main__\":\n",
    "    json_file = input(\"Enter JSON file path: \")\n",
    "    csv_file = input(\"Enter CSV file path: \")\n",
    "    json_to_csv_with_encoding(json_file, csv_file)"
   ]
  },
  {
   "cell_type": "code",
   "execution_count": 1,
   "id": "8b0efbeb",
   "metadata": {},
   "outputs": [
    {
     "name": "stdout",
     "output_type": "stream",
     "text": [
      "Collecting notebook-as-pdf\n",
      "  Obtaining dependency information for notebook-as-pdf from https://files.pythonhosted.org/packages/be/aa/33c6dc40a09b01d77a657e95461932463e4c061ba623e6bbc4f6ab15634d/notebook_as_pdf-0.5.0-py3-none-any.whl.metadata\n",
      "  Downloading notebook_as_pdf-0.5.0-py3-none-any.whl.metadata (2.4 kB)\n",
      "Requirement already satisfied: nbconvert in c:\\users\\hp\\anaconda3\\lib\\site-packages (from notebook-as-pdf) (6.5.4)\n",
      "Collecting pyppeteer (from notebook-as-pdf)\n",
      "  Obtaining dependency information for pyppeteer from https://files.pythonhosted.org/packages/3d/ee/fb2757a38025421fd3844a0ed0a230b78c9c04a66355024436cf3005a70c/pyppeteer-2.0.0-py3-none-any.whl.metadata\n",
      "  Downloading pyppeteer-2.0.0-py3-none-any.whl.metadata (7.1 kB)\n",
      "Collecting PyPDF2 (from notebook-as-pdf)\n",
      "  Obtaining dependency information for PyPDF2 from https://files.pythonhosted.org/packages/8e/5e/c86a5643653825d3c913719e788e41386bee415c2b87b4f955432f2de6b2/pypdf2-3.0.1-py3-none-any.whl.metadata\n",
      "  Downloading pypdf2-3.0.1-py3-none-any.whl.metadata (6.8 kB)\n",
      "Requirement already satisfied: lxml in c:\\users\\hp\\anaconda3\\lib\\site-packages (from nbconvert->notebook-as-pdf) (4.9.3)\n",
      "Requirement already satisfied: beautifulsoup4 in c:\\users\\hp\\anaconda3\\lib\\site-packages (from nbconvert->notebook-as-pdf) (4.12.2)\n",
      "Requirement already satisfied: bleach in c:\\users\\hp\\anaconda3\\lib\\site-packages (from nbconvert->notebook-as-pdf) (4.1.0)\n",
      "Requirement already satisfied: defusedxml in c:\\users\\hp\\anaconda3\\lib\\site-packages (from nbconvert->notebook-as-pdf) (0.7.1)\n",
      "Requirement already satisfied: entrypoints>=0.2.2 in c:\\users\\hp\\anaconda3\\lib\\site-packages (from nbconvert->notebook-as-pdf) (0.4)\n",
      "Requirement already satisfied: jinja2>=3.0 in c:\\users\\hp\\anaconda3\\lib\\site-packages (from nbconvert->notebook-as-pdf) (3.1.2)\n",
      "Requirement already satisfied: jupyter-core>=4.7 in c:\\users\\hp\\anaconda3\\lib\\site-packages (from nbconvert->notebook-as-pdf) (5.3.0)\n",
      "Requirement already satisfied: jupyterlab-pygments in c:\\users\\hp\\anaconda3\\lib\\site-packages (from nbconvert->notebook-as-pdf) (0.1.2)\n",
      "Requirement already satisfied: MarkupSafe>=2.0 in c:\\users\\hp\\anaconda3\\lib\\site-packages (from nbconvert->notebook-as-pdf) (2.1.1)\n",
      "Requirement already satisfied: mistune<2,>=0.8.1 in c:\\users\\hp\\anaconda3\\lib\\site-packages (from nbconvert->notebook-as-pdf) (0.8.4)\n",
      "Requirement already satisfied: nbclient>=0.5.0 in c:\\users\\hp\\anaconda3\\lib\\site-packages (from nbconvert->notebook-as-pdf) (0.5.13)\n",
      "Requirement already satisfied: nbformat>=5.1 in c:\\users\\hp\\anaconda3\\lib\\site-packages (from nbconvert->notebook-as-pdf) (5.9.2)\n",
      "Requirement already satisfied: packaging in c:\\users\\hp\\anaconda3\\lib\\site-packages (from nbconvert->notebook-as-pdf) (23.1)\n",
      "Requirement already satisfied: pandocfilters>=1.4.1 in c:\\users\\hp\\anaconda3\\lib\\site-packages (from nbconvert->notebook-as-pdf) (1.5.0)\n",
      "Requirement already satisfied: pygments>=2.4.1 in c:\\users\\hp\\anaconda3\\lib\\site-packages (from nbconvert->notebook-as-pdf) (2.15.1)\n",
      "Requirement already satisfied: tinycss2 in c:\\users\\hp\\anaconda3\\lib\\site-packages (from nbconvert->notebook-as-pdf) (1.2.1)\n",
      "Requirement already satisfied: traitlets>=5.0 in c:\\users\\hp\\anaconda3\\lib\\site-packages (from nbconvert->notebook-as-pdf) (5.7.1)\n",
      "Requirement already satisfied: appdirs<2.0.0,>=1.4.3 in c:\\users\\hp\\anaconda3\\lib\\site-packages (from pyppeteer->notebook-as-pdf) (1.4.4)\n",
      "Requirement already satisfied: certifi>=2023 in c:\\users\\hp\\anaconda3\\lib\\site-packages (from pyppeteer->notebook-as-pdf) (2023.7.22)\n",
      "Requirement already satisfied: importlib-metadata>=1.4 in c:\\users\\hp\\anaconda3\\lib\\site-packages (from pyppeteer->notebook-as-pdf) (6.0.0)\n",
      "Collecting pyee<12.0.0,>=11.0.0 (from pyppeteer->notebook-as-pdf)\n",
      "  Obtaining dependency information for pyee<12.0.0,>=11.0.0 from https://files.pythonhosted.org/packages/db/99/7e80837f60b13227f03334e3b0537d650dea2c0cea44c543b0a2e719a48f/pyee-11.1.1-py3-none-any.whl.metadata\n",
      "  Downloading pyee-11.1.1-py3-none-any.whl.metadata (2.8 kB)\n",
      "Requirement already satisfied: tqdm<5.0.0,>=4.42.1 in c:\\users\\hp\\anaconda3\\lib\\site-packages (from pyppeteer->notebook-as-pdf) (4.65.0)\n",
      "Requirement already satisfied: urllib3<2.0.0,>=1.25.8 in c:\\users\\hp\\anaconda3\\lib\\site-packages (from pyppeteer->notebook-as-pdf) (1.26.16)\n",
      "Collecting websockets<11.0,>=10.0 (from pyppeteer->notebook-as-pdf)\n",
      "  Obtaining dependency information for websockets<11.0,>=10.0 from https://files.pythonhosted.org/packages/27/bb/6327e8c7d4dd7d5b450b409a461be278968ce05c54da13da581ac87661db/websockets-10.4-cp311-cp311-win_amd64.whl.metadata\n",
      "  Downloading websockets-10.4-cp311-cp311-win_amd64.whl.metadata (6.4 kB)\n",
      "Requirement already satisfied: zipp>=0.5 in c:\\users\\hp\\anaconda3\\lib\\site-packages (from importlib-metadata>=1.4->pyppeteer->notebook-as-pdf) (3.11.0)\n",
      "Requirement already satisfied: platformdirs>=2.5 in c:\\users\\hp\\anaconda3\\lib\\site-packages (from jupyter-core>=4.7->nbconvert->notebook-as-pdf) (3.10.0)\n",
      "Requirement already satisfied: pywin32>=300 in c:\\users\\hp\\anaconda3\\lib\\site-packages (from jupyter-core>=4.7->nbconvert->notebook-as-pdf) (305.1)\n",
      "Requirement already satisfied: jupyter-client>=6.1.5 in c:\\users\\hp\\anaconda3\\lib\\site-packages (from nbclient>=0.5.0->nbconvert->notebook-as-pdf) (7.4.9)\n",
      "Requirement already satisfied: nest-asyncio in c:\\users\\hp\\anaconda3\\lib\\site-packages (from nbclient>=0.5.0->nbconvert->notebook-as-pdf) (1.5.6)\n",
      "Requirement already satisfied: fastjsonschema in c:\\users\\hp\\anaconda3\\lib\\site-packages (from nbformat>=5.1->nbconvert->notebook-as-pdf) (2.16.2)\n",
      "Requirement already satisfied: jsonschema>=2.6 in c:\\users\\hp\\anaconda3\\lib\\site-packages (from nbformat>=5.1->nbconvert->notebook-as-pdf) (4.17.3)\n",
      "Requirement already satisfied: typing-extensions in c:\\users\\hp\\anaconda3\\lib\\site-packages (from pyee<12.0.0,>=11.0.0->pyppeteer->notebook-as-pdf) (4.10.0)\n",
      "Requirement already satisfied: colorama in c:\\users\\hp\\anaconda3\\lib\\site-packages (from tqdm<5.0.0,>=4.42.1->pyppeteer->notebook-as-pdf) (0.4.6)\n",
      "Requirement already satisfied: soupsieve>1.2 in c:\\users\\hp\\anaconda3\\lib\\site-packages (from beautifulsoup4->nbconvert->notebook-as-pdf) (2.4)\n",
      "Requirement already satisfied: six>=1.9.0 in c:\\users\\hp\\anaconda3\\lib\\site-packages (from bleach->nbconvert->notebook-as-pdf) (1.16.0)\n",
      "Requirement already satisfied: webencodings in c:\\users\\hp\\anaconda3\\lib\\site-packages (from bleach->nbconvert->notebook-as-pdf) (0.5.1)\n",
      "Requirement already satisfied: attrs>=17.4.0 in c:\\users\\hp\\anaconda3\\lib\\site-packages (from jsonschema>=2.6->nbformat>=5.1->nbconvert->notebook-as-pdf) (22.1.0)\n",
      "Requirement already satisfied: pyrsistent!=0.17.0,!=0.17.1,!=0.17.2,>=0.14.0 in c:\\users\\hp\\anaconda3\\lib\\site-packages (from jsonschema>=2.6->nbformat>=5.1->nbconvert->notebook-as-pdf) (0.18.0)\n",
      "Requirement already satisfied: python-dateutil>=2.8.2 in c:\\users\\hp\\anaconda3\\lib\\site-packages (from jupyter-client>=6.1.5->nbclient>=0.5.0->nbconvert->notebook-as-pdf) (2.8.2)\n",
      "Requirement already satisfied: pyzmq>=23.0 in c:\\users\\hp\\anaconda3\\lib\\site-packages (from jupyter-client>=6.1.5->nbclient>=0.5.0->nbconvert->notebook-as-pdf) (23.2.0)\n",
      "Requirement already satisfied: tornado>=6.2 in c:\\users\\hp\\anaconda3\\lib\\site-packages (from jupyter-client>=6.1.5->nbclient>=0.5.0->nbconvert->notebook-as-pdf) (6.3.2)\n",
      "Downloading notebook_as_pdf-0.5.0-py3-none-any.whl (6.5 kB)\n",
      "Downloading pypdf2-3.0.1-py3-none-any.whl (232 kB)\n",
      "   ---------------------------------------- 0.0/232.6 kB ? eta -:--:--\n",
      "   -------------- ------------------------- 81.9/232.6 kB 4.5 MB/s eta 0:00:01\n",
      "   ---------------------------------------- 232.6/232.6 kB 3.5 MB/s eta 0:00:00\n",
      "Downloading pyppeteer-2.0.0-py3-none-any.whl (82 kB)\n",
      "   ---------------------------------------- 0.0/82.9 kB ? eta -:--:--\n",
      "   ---------------------------------------- 82.9/82.9 kB 4.5 MB/s eta 0:00:00\n",
      "Downloading pyee-11.1.1-py3-none-any.whl (15 kB)\n",
      "Downloading websockets-10.4-cp311-cp311-win_amd64.whl (101 kB)\n",
      "   ---------------------------------------- 0.0/101.4 kB ? eta -:--:--\n",
      "   ---------------------------------------- 101.4/101.4 kB ? eta 0:00:00\n",
      "Installing collected packages: websockets, PyPDF2, pyee, pyppeteer, notebook-as-pdf\n",
      "Successfully installed PyPDF2-3.0.1 notebook-as-pdf-0.5.0 pyee-11.1.1 pyppeteer-2.0.0 websockets-10.4\n",
      "Note: you may need to restart the kernel to use updated packages.\n"
     ]
    }
   ],
   "source": [
    "pip install -U notebook-as-pdf\n"
   ]
  },
  {
   "cell_type": "code",
   "execution_count": 2,
   "id": "d662b66d",
   "metadata": {},
   "outputs": [
    {
     "ename": "NameError",
     "evalue": "name 'pyppeteer' is not defined",
     "output_type": "error",
     "traceback": [
      "\u001b[1;31m---------------------------------------------------------------------------\u001b[0m",
      "\u001b[1;31mNameError\u001b[0m                                 Traceback (most recent call last)",
      "Cell \u001b[1;32mIn[2], line 1\u001b[0m\n\u001b[1;32m----> 1\u001b[0m pyppeteer\u001b[38;5;241m-\u001b[39minstall\n",
      "\u001b[1;31mNameError\u001b[0m: name 'pyppeteer' is not defined"
     ]
    }
   ],
   "source": [
    "pyppeteer-install"
   ]
  },
  {
   "cell_type": "code",
   "execution_count": null,
   "id": "59ab9ab1",
   "metadata": {},
   "outputs": [],
   "source": []
  }
 ],
 "metadata": {
  "kernelspec": {
   "display_name": "Python 3 (ipykernel)",
   "language": "python",
   "name": "python3"
  },
  "language_info": {
   "codemirror_mode": {
    "name": "ipython",
    "version": 3
   },
   "file_extension": ".py",
   "mimetype": "text/x-python",
   "name": "python",
   "nbconvert_exporter": "python",
   "pygments_lexer": "ipython3",
   "version": "3.11.5"
  }
 },
 "nbformat": 4,
 "nbformat_minor": 5
}
