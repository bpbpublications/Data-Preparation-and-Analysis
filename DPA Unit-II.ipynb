{
 "cells": [
  {
   "cell_type": "markdown",
   "id": "2bc2312f",
   "metadata": {},
   "source": [
    "# The following code performs the following:\n",
    "Numerical data: Fills missing values with the median and handles outliers using the IQR method.\n",
    "Categorical data: Fills missing values with the mode and standardizes text formatting.\n",
    "Datetime data: Converts date columns and fills missing values with a default fallback date.\n",
    "Text data: Converts to lowercase and trims whitespace."
   ]
  },
  {
   "cell_type": "code",
   "execution_count": 2,
   "id": "b66ccd7d",
   "metadata": {},
   "outputs": [
    {
     "name": "stdout",
     "output_type": "stream",
     "text": [
      "Cleaned data saved to cleaned_data.csv\n"
     ]
    }
   ],
   "source": [
    "import pandas as pd\n",
    "import numpy as np\n",
    "\n",
    "def clean_data(df):\n",
    "    # Drop duplicates\n",
    "    df = df.drop_duplicates()\n",
    "\n",
    "    # Identify column types\n",
    "    categorical_cols = df.select_dtypes(include=['object']).columns.tolist()\n",
    "    numerical_cols = df.select_dtypes(include=['number']).columns.tolist()\n",
    "    datetime_cols = [col for col in df.columns if 'date' in col.lower()]\n",
    "\n",
    "    # Handle missing values\n",
    "    for col in numerical_cols:\n",
    "        df[col].fillna(df[col].median(), inplace=True)  # Use median for robustness\n",
    "    \n",
    "    for col in categorical_cols:\n",
    "        df[col].fillna(df[col].mode()[0], inplace=True)\n",
    "    \n",
    "    for col in datetime_cols:\n",
    "        df[col] = pd.to_datetime(df[col], errors='coerce')\n",
    "        df[col].fillna(pd.Timestamp('2000-01-01'), inplace=True)  # Default fallback date\n",
    "    \n",
    "    # Standardize text data\n",
    "    for col in categorical_cols:\n",
    "        df[col] = df[col].astype(str).str.lower().str.strip()\n",
    "    \n",
    "    # Handle outliers in numerical columns using IQR method\n",
    "    for col in numerical_cols:\n",
    "        Q1 = df[col].quantile(0.25)\n",
    "        Q3 = df[col].quantile(0.75)\n",
    "        IQR = Q3 - Q1\n",
    "        lower_bound = Q1 - 1.5 * IQR\n",
    "        upper_bound = Q3 + 1.5 * IQR\n",
    "        df[col] = np.where((df[col] < lower_bound) | (df[col] > upper_bound), df[col].median(), df[col])\n",
    "    \n",
    "    return df\n",
    "\n",
    "# Load data from CSV\n",
    "file_path = \"sample_data.csv\"  # Update with actual file path\n",
    "df = pd.read_csv(file_path)\n",
    "\n",
    "# Clean the data with the updated function\n",
    "cleaned_df = clean_data(df)\n",
    "\n",
    "# Save the cleaned dataset\n",
    "cleaned_file_path = \"cleaned_data.csv\"  # Update as needed\n",
    "cleaned_df.to_csv(cleaned_file_path, index=False)\n",
    "\n",
    "print(f\"Cleaned data saved to {cleaned_file_path}\")\n"
   ]
  },
  {
   "cell_type": "markdown",
   "id": "f7badc7e",
   "metadata": {},
   "source": [
    "# The following code perfroms the data transformation and segmentation, including common operations such as:\n",
    "\n",
    "Creating new columns\n",
    "Normalizing numerical values\n",
    "Encoding categorical variables\n",
    "\n",
    "Normalizes the \"Salary\" column.\n",
    "Encodes the \"Department\" column.\n",
    "Categorizes \"Age\" into groups.\n",
    "\n",
    "Salary Segmentation: Categorizing salaries into Low, Medium, and High.\n",
    "Department Segmentation: Assigning the average salary of each department."
   ]
  },
  {
   "cell_type": "code",
   "execution_count": 3,
   "id": "94c263fe",
   "metadata": {},
   "outputs": [
    {
     "name": "stdout",
     "output_type": "stream",
     "text": [
      "Segmented data saved to segmented_data.csv\n"
     ]
    }
   ],
   "source": [
    "import pandas as pd\n",
    "from sklearn.preprocessing import MinMaxScaler, LabelEncoder\n",
    "\n",
    "def transform_data(df):\n",
    "    # Normalize numerical columns (Scaling Salary)\n",
    "    scaler = MinMaxScaler()\n",
    "    df['Salary_Scaled'] = scaler.fit_transform(df[['Salary']])\n",
    "    \n",
    "    # Encode categorical columns (Label Encoding Department)\n",
    "    encoder = LabelEncoder()\n",
    "    df['Department_Encoded'] = encoder.fit_transform(df['Department'])\n",
    "    \n",
    "    # Create a new column (Age Group)\n",
    "    df['Age_Group'] = pd.cut(df['Age'], bins=[20, 30, 40, 50, 60], labels=['Young', 'Middle-Aged', 'Senior', 'Very Senior'])\n",
    "    \n",
    "    return df\n",
    "\n",
    "def segment_data(df):\n",
    "    # Segment based on Salary\n",
    "    df['Salary_Segment'] = pd.cut(df['Salary'], bins=[0, 60000, 80000, 100000], labels=['Low', 'Medium', 'High'])\n",
    "    \n",
    "    # Segment based on Department\n",
    "    department_groups = df.groupby('Department')['Salary'].mean()\n",
    "    df['Department_Segment'] = df['Department'].map(department_groups)\n",
    "    \n",
    "    return df\n",
    "\n",
    "# Example usage\n",
    "if __name__ == \"__main__\":\n",
    "    # Load sample data\n",
    "    input_csv = \"sample_transformation_data.csv\"\n",
    "    df = pd.read_csv(input_csv)\n",
    "    \n",
    "    # Transform and segment the data\n",
    "    transformed_df = transform_data(df)\n",
    "    segmented_df = segment_data(transformed_df)\n",
    "    \n",
    "    # Save segmented data to a new CSV file\n",
    "    segmented_csv = \"segmented_data.csv\"\n",
    "    segmented_df.to_csv(segmented_csv, index=False)\n",
    "    \n",
    "    print(f\"Segmented data saved to {segmented_csv}\")\n"
   ]
  },
  {
   "cell_type": "markdown",
   "id": "4aba8394",
   "metadata": {},
   "source": [
    "# Python code example that demonstrates how to fix common data inconsistencies using Pandas. This includes:\n",
    "\n",
    "Standardizing date formats\n",
    "\n",
    "Normalizing categorical values (e.g., 'Male', 'male', 'M' → 'Male')\n",
    "\n",
    "Removing duplicate rows"
   ]
  },
  {
   "cell_type": "code",
   "execution_count": 3,
   "id": "59e21403",
   "metadata": {},
   "outputs": [
    {
     "name": "stdout",
     "output_type": "stream",
     "text": [
      "Original DataFrame:\n",
      "    CustomerID     Name  Gender   SignupDate\n",
      "0         101    Alice    Male   01-05-2023\n",
      "1         102      Bob    male   2023/05/01\n",
      "2         103  Charlie       M  May 1, 2023\n",
      "3         104    David  Female   2023-05-01\n",
      "4         105      Eve       F  01-May-2023\n",
      "5         105      Eve  FEMALE   2023-05-01\n",
      "\n",
      "Cleaned DataFrame:\n",
      "    CustomerID     Name  Gender SignupDate\n",
      "0         101    Alice    Male 2023-05-01\n",
      "1         102      Bob    Male 2023-01-05\n",
      "2         103  Charlie    Male 2023-05-01\n",
      "3         104    David  Female 2023-01-05\n",
      "4         105      Eve  Female 2023-05-01\n",
      "5         105      Eve  Female 2023-01-05\n"
     ]
    }
   ],
   "source": [
    "import pandas as pd\n",
    "\n",
    "# Sample data with inconsistencies\n",
    "data = {\n",
    "    'CustomerID': [101, 102, 103, 104, 105, 105],\n",
    "    'Name': ['Alice', 'Bob', 'Charlie', 'David', 'Eve', 'Eve'],\n",
    "    'Gender': ['Male', 'male', 'M', 'Female', 'F', 'FEMALE'],\n",
    "    'SignupDate': ['01-05-2023', '2023/05/01', 'May 1, 2023', '2023-05-01', '01-May-2023', '2023-05-01']\n",
    "}\n",
    "\n",
    "df = pd.DataFrame(data)\n",
    "\n",
    "print(\"Original DataFrame:\\n\", df)\n",
    "\n",
    "# -------------------------------\n",
    "# 1. Fixing date format inconsistencies\n",
    "#df['SignupDate'] = pd.to_datetime(df['SignupDate'], errors='coerce', dayfirst=True)# Converts to datetime, handles mixed formats\n",
    "\n",
    "# ----------- Fix SignupDate with format parsing ------------\n",
    "from dateutil import parser\n",
    "\n",
    "def parse_date(val):\n",
    "    try:\n",
    "        return parser.parse(val, dayfirst=True)\n",
    "    except Exception:\n",
    "        return pd.NaT\n",
    "\n",
    "df['SignupDate'] = df['SignupDate'].apply(parse_date)\n",
    "# -------------------------------\n",
    "# 2. Standardizing categorical values (Gender column)\n",
    "def standardize_gender(val):\n",
    "    val = str(val).strip().lower()\n",
    "    if val in ['male', 'm']:\n",
    "        return 'Male'\n",
    "    elif val in ['female', 'f']:\n",
    "        return 'Female'\n",
    "    else:\n",
    "        return 'Other'\n",
    "\n",
    "df['Gender'] = df['Gender'].apply(standardize_gender)\n",
    "\n",
    "# -------------------------------\n",
    "# 3. Removing duplicate rows (if any)\n",
    "df = df.drop_duplicates()\n",
    "\n",
    "print(\"\\nCleaned DataFrame:\\n\", df)\n"
   ]
  },
  {
   "cell_type": "code",
   "execution_count": null,
   "id": "8252982c",
   "metadata": {},
   "outputs": [],
   "source": []
  }
 ],
 "metadata": {
  "kernelspec": {
   "display_name": "Python 3 (ipykernel)",
   "language": "python",
   "name": "python3"
  },
  "language_info": {
   "codemirror_mode": {
    "name": "ipython",
    "version": 3
   },
   "file_extension": ".py",
   "mimetype": "text/x-python",
   "name": "python",
   "nbconvert_exporter": "python",
   "pygments_lexer": "ipython3",
   "version": "3.11.5"
  }
 },
 "nbformat": 4,
 "nbformat_minor": 5
}
